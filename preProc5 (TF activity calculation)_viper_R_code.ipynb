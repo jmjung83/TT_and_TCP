{
 "cells": [
  {
   "cell_type": "code",
   "execution_count": 1,
   "metadata": {},
   "outputs": [
    {
     "name": "stdout",
     "output_type": "stream",
     "text": [
      "package 'BiocManager' successfully unpacked and MD5 sums checked\n",
      "\n",
      "The downloaded binary packages are in\n",
      "\tC:\\Users\\jmjun\\AppData\\Local\\Temp\\RtmpqmQU35\\downloaded_packages\n"
     ]
    },
    {
     "name": "stderr",
     "output_type": "stream",
     "text": [
      "Bioconductor version 3.10 (BiocManager 1.30.10), R 3.6.1 (2019-07-05)\n",
      "Installing package(s) 'BiocVersion', 'mixtools'\n",
      "also installing the dependencies 'lattice', 'Matrix', 'kernlab', 'MASS', 'segmented', 'survival'\n",
      "\n"
     ]
    },
    {
     "name": "stdout",
     "output_type": "stream",
     "text": [
      "package 'lattice' successfully unpacked and MD5 sums checked\n",
      "package 'Matrix' successfully unpacked and MD5 sums checked\n",
      "package 'kernlab' successfully unpacked and MD5 sums checked\n",
      "package 'MASS' successfully unpacked and MD5 sums checked\n",
      "package 'segmented' successfully unpacked and MD5 sums checked\n",
      "package 'survival' successfully unpacked and MD5 sums checked\n",
      "package 'BiocVersion' successfully unpacked and MD5 sums checked\n",
      "package 'mixtools' successfully unpacked and MD5 sums checked\n",
      "\n",
      "The downloaded binary packages are in\n",
      "\tC:\\Users\\jmjun\\AppData\\Local\\Temp\\RtmpqmQU35\\downloaded_packages\n"
     ]
    },
    {
     "name": "stderr",
     "output_type": "stream",
     "text": [
      "Old packages: 'digest', 'evaluate', 'htmltools', 'IRkernel', 'jsonlite',\n",
      "  'Rcpp', 'repr', 'uuid'\n",
      "Bioconductor version 3.10 (BiocManager 1.30.10), R 3.6.1 (2019-07-05)\n",
      "Installing package(s) 'bcellViper'\n",
      "also installing the dependencies 'BiocGenerics', 'Biobase'\n",
      "\n"
     ]
    },
    {
     "name": "stdout",
     "output_type": "stream",
     "text": [
      "package 'BiocGenerics' successfully unpacked and MD5 sums checked\n",
      "package 'Biobase' successfully unpacked and MD5 sums checked\n",
      "\n",
      "The downloaded binary packages are in\n",
      "\tC:\\Users\\jmjun\\AppData\\Local\\Temp\\RtmpqmQU35\\downloaded_packages\n"
     ]
    },
    {
     "name": "stderr",
     "output_type": "stream",
     "text": [
      "installing the source package 'bcellViper'\n",
      "\n",
      "Old packages: 'digest', 'evaluate', 'htmltools', 'IRkernel', 'jsonlite',\n",
      "  'Rcpp', 'repr', 'uuid'\n",
      "Bioconductor version 3.10 (BiocManager 1.30.10), R 3.6.1 (2019-07-05)\n",
      "Installing package(s) 'viper'\n",
      "also installing the dependencies 'class', 'e1071', 'KernSmooth'\n",
      "\n"
     ]
    },
    {
     "name": "stdout",
     "output_type": "stream",
     "text": [
      "package 'class' successfully unpacked and MD5 sums checked\n",
      "package 'e1071' successfully unpacked and MD5 sums checked\n",
      "package 'KernSmooth' successfully unpacked and MD5 sums checked\n",
      "package 'viper' successfully unpacked and MD5 sums checked\n",
      "\n",
      "The downloaded binary packages are in\n",
      "\tC:\\Users\\jmjun\\AppData\\Local\\Temp\\RtmpqmQU35\\downloaded_packages\n"
     ]
    },
    {
     "name": "stderr",
     "output_type": "stream",
     "text": [
      "Old packages: 'digest', 'evaluate', 'htmltools', 'IRkernel', 'jsonlite',\n",
      "  'Rcpp', 'repr', 'uuid'\n"
     ]
    }
   ],
   "source": [
    "if (!requireNamespace(\"BiocManager\", quietly = TRUE))\n",
    "    install.packages(\"BiocManager\")\n",
    "BiocManager::install(\"mixtools\")\n",
    "BiocManager::install(\"bcellViper\")\n",
    "BiocManager::install(\"viper\")"
   ]
  },
  {
   "cell_type": "code",
   "execution_count": 2,
   "metadata": {},
   "outputs": [
    {
     "name": "stderr",
     "output_type": "stream",
     "text": [
      "Loading required package: Biobase\n",
      "Loading required package: BiocGenerics\n",
      "Loading required package: parallel\n",
      "\n",
      "Attaching package: 'BiocGenerics'\n",
      "\n",
      "The following objects are masked from 'package:parallel':\n",
      "\n",
      "    clusterApply, clusterApplyLB, clusterCall, clusterEvalQ,\n",
      "    clusterExport, clusterMap, parApply, parCapply, parLapply,\n",
      "    parLapplyLB, parRapply, parSapply, parSapplyLB\n",
      "\n",
      "The following objects are masked from 'package:stats':\n",
      "\n",
      "    IQR, mad, sd, var, xtabs\n",
      "\n",
      "The following objects are masked from 'package:base':\n",
      "\n",
      "    anyDuplicated, append, as.data.frame, basename, cbind, colnames,\n",
      "    dirname, do.call, duplicated, eval, evalq, Filter, Find, get, grep,\n",
      "    grepl, intersect, is.unsorted, lapply, Map, mapply, match, mget,\n",
      "    order, paste, pmax, pmax.int, pmin, pmin.int, Position, rank,\n",
      "    rbind, Reduce, rownames, sapply, setdiff, sort, table, tapply,\n",
      "    union, unique, unsplit, which, which.max, which.min\n",
      "\n",
      "Welcome to Bioconductor\n",
      "\n",
      "    Vignettes contain introductory material; view with\n",
      "    'browseVignettes()'. To cite Bioconductor, see\n",
      "    'citation(\"Biobase\")', and for packages 'citation(\"pkgname\")'.\n",
      "\n",
      "Warning message:\n",
      "\"package 'mixtools' was built under R version 3.6.3\"mixtools package, version 1.2.0, Released 2020-02-05\n",
      "This package is based upon work supported by the National Science Foundation under Grant No. SES-0518772.\n",
      "\n"
     ]
    }
   ],
   "source": [
    "library(viper)\n",
    "library(bcellViper)\n",
    "library(mixtools)"
   ]
  },
  {
   "cell_type": "markdown",
   "metadata": {},
   "source": [
    "## creating regulon object"
   ]
  },
  {
   "cell_type": "code",
   "execution_count": 5,
   "metadata": {},
   "outputs": [
    {
     "name": "stderr",
     "output_type": "stream",
     "text": [
      "Interactions: 4800\n",
      "Genes: 1568\n",
      "TFs: 627\n"
     ]
    }
   ],
   "source": [
    "createRegulon = function(file_name){ \n",
    "  viper_regulon = list()\n",
    "  # Load network and format regulons\n",
    "  net = read.delim(file_name, stringsAsFactors = F)\n",
    "  \n",
    "  # Check number of TFs\n",
    "  tfs = unique(net$TF)\n",
    "  message('Interactions: ', nrow(net))\n",
    "  message('Genes: ', length(unique(net$target)))\n",
    "  message('TFs: ', length(tfs))\n",
    "\n",
    "  #  Iterate each TF to build the reguon object and ...\n",
    "  for (tf in tfs ){\n",
    "    # Define targets\n",
    "    tf_targets = subset(net, TF == tf)$target\n",
    "      \n",
    "    # Define TF mode\n",
    "    tf_targets_sign = subset(net, TF == tf)$mode\n",
    "    \n",
    "    # Define regulation weight\n",
    "    tf_targets_weight = rep(1, length(tf_targets))\n",
    "      \n",
    "    # Build VIPER regulon\n",
    "    viper_regulon[[tf]]$tfmode = tf_targets_sign # NOTE: tfmode has to be the first element of the list. Otherwise msviper will fail.\n",
    "    names(viper_regulon[[tf]]$tfmode) = tf_targets\n",
    "    viper_regulon[[tf]]$likelihood = tf_targets_weight\n",
    "  }\n",
    "  return(viper_regulon)\n",
    "}\n",
    "trrust_regulon=createRegulon(file_name='data/TRRUST2_TF/trrust2_TF_target_processed.txt')"
   ]
  },
  {
   "cell_type": "markdown",
   "metadata": {},
   "source": [
    "## run msviper"
   ]
  },
  {
   "cell_type": "code",
   "execution_count": 6,
   "metadata": {},
   "outputs": [
    {
     "name": "stderr",
     "output_type": "stream",
     "text": [
      "Computing regulon enrichment with aREA algorithm\n"
     ]
    },
    {
     "name": "stdout",
     "output_type": "stream",
     "text": [
      "  |======================================================================| 100%"
     ]
    },
    {
     "name": "stderr",
     "output_type": "stream",
     "text": [
      "## TFA matrix + effect\n",
      "nrow(exp): 456\n",
      "ncol(TF): 628\n"
     ]
    },
    {
     "name": "stdout",
     "output_type": "stream",
     "text": [
      "         ZNF382     ZNF383     ZNF444      ZNF76       ZNRD1 effect\n",
      "[1,] -0.8254295  1.0023214 -1.2623528 -0.7974027 -1.39298216      0\n",
      "[2,] -0.4969884 -0.8043002  0.1849407  1.3995490 -1.06589548      0\n",
      "[3,] -1.5239552  0.3991710 -1.1959217 -0.1366888  0.06466780      0\n",
      "[4,]  0.6262098 -1.6627000  0.4541759 -0.4955398 -0.01170077      0\n",
      "[5,] -0.1539613 -1.9344403  0.1697754 -0.7875495 -1.02012409      0\n"
     ]
    },
    {
     "name": "stderr",
     "output_type": "stream",
     "text": [
      "Computing regulon enrichment with aREA algorithm\n"
     ]
    },
    {
     "name": "stdout",
     "output_type": "stream",
     "text": [
      "  |======================================================================| 100%"
     ]
    },
    {
     "name": "stderr",
     "output_type": "stream",
     "text": [
      "## TFA matrix + effect\n",
      "nrow(exp): 456\n",
      "ncol(TF): 628\n"
     ]
    },
    {
     "name": "stdout",
     "output_type": "stream",
     "text": [
      "         ZNF382     ZNF383     ZNF444      ZNF76       ZNRD1 effect\n",
      "[1,] -0.7772658 0.96489652 -1.2328004  0.5991745  0.38742988      0\n",
      "[2,] -1.9543563 0.92877660 -1.3482273  0.2455776 -0.05823963      0\n",
      "[3,] -0.8234642 0.09173511 -0.1272346  1.0840203  1.97241875      0\n",
      "[4,] -0.6724340 1.13956709 -1.4850888  0.9369768  1.12331787      0\n",
      "[5,] -1.6080418 0.21123785 -1.0090724 -1.1013925  1.07594782      0\n"
     ]
    }
   ],
   "source": [
    "msviper_func = function(fc_file){ \n",
    "    fc.df = read.delim(fc_file, stringsAsFactors = F, sep='\\t')\n",
    "    # dataframe to matrix\n",
    "    fc.mx=as.matrix(fc.df)\n",
    "    # get effect column\n",
    "    effect=fc.mx[,ncol(fc.mx)]\n",
    "    # remove effect column & transpose\n",
    "    fc.mx=fc.mx[,-ncol(fc.mx)]\n",
    "    fc.mx=t(fc.mx)\n",
    "    \n",
    "    # run msviper\n",
    "    res=msviper(fc.mx, trrust_regulon, minsize=1,verbose = T)\n",
    "    \n",
    "    # get TF activity\n",
    "    TFA=res$es$nes.bt\n",
    "    TFA=t(TFA)\n",
    "    \n",
    "    # append \n",
    "    TFA=cbind(TFA,effect)\n",
    "    message('## TFA matrix + effect')\n",
    "    message('nrow(exp): ', nrow(TFA))\n",
    "    message('ncol(TF): ', ncol(TFA))\n",
    "    print(TFA[1:5,(ncol(TFA)-5):ncol(TFA)])\n",
    "    cell=strsplit(fc_file,'_')[[1]][4]\n",
    "    write.table(TFA, file=paste('result/TF_activity_viper/TFA',cell,'v_raw.txt',sep='_'), sep='\\t',row.names=F, col.names=T)\n",
    "}\n",
    "msviper_func('result/foldchange_with_effect/FC_A375_effect.txt')\n",
    "msviper_func('result/foldchange_with_effect/FC_HT29_effect.txt')"
   ]
  }
 ],
 "metadata": {
  "kernelspec": {
   "display_name": "R",
   "language": "R",
   "name": "ir"
  },
  "language_info": {
   "codemirror_mode": "r",
   "file_extension": ".r",
   "mimetype": "text/x-r-source",
   "name": "R",
   "pygments_lexer": "r",
   "version": "3.6.1"
  }
 },
 "nbformat": 4,
 "nbformat_minor": 4
}
