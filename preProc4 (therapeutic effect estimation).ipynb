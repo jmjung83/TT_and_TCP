{
 "cells": [
  {
   "cell_type": "code",
   "execution_count": 1,
   "metadata": {},
   "outputs": [],
   "source": [
    "from IPython.core.interactiveshell import InteractiveShell\n",
    "InteractiveShell.ast_node_interactivity = \"all\"\n",
    "\n",
    "import pandas as pd\n",
    "import numpy as np\n",
    "import os\n",
    "import glob"
   ]
  },
  {
   "cell_type": "markdown",
   "metadata": {},
   "source": [
    "### - attach ic50 info to each FC induced by a certain compound experiment \n",
    "### - select cells to be analyzed with two criteria"
   ]
  },
  {
   "cell_type": "code",
   "execution_count": 2,
   "metadata": {},
   "outputs": [
    {
     "name": "stdout",
     "output_type": "stream",
     "text": [
      "A375,119,456,0.261\n",
      "A549,55,210,0.262\n",
      "BT20,30,228,0.132\n",
      "HS578T,37,221,0.167\n",
      "HT29,78,456,0.171\n",
      "JURKAT,4,31,0.129\n",
      "LNCAP,33,167,0.198\n",
      "MCF7,48,450,0.107\n",
      "MDAMB231,32,228,0.140\n",
      "PC3,49,402,0.122\n"
     ]
    }
   ],
   "source": [
    "def get_BRD2CID_dic():\n",
    "    # BRD to LSM mapping\n",
    "    BRD2LSM_df=pd.read_table('./data/LINCS/BRD2LSM.txt',index_col='SM_Center_Canonical_ID', sep='\\t',engine='python')\n",
    "    BRD2LSM_df=BRD2LSM_df[BRD2LSM_df.index.str.startswith('BRD')]\n",
    "    BRD2LSM_dic=BRD2LSM_df['SM_LINCS_ID'].to_dict()\n",
    "    \n",
    "    # LSM to CID mapping\n",
    "    LSM2CID_df=pd.read_table('./data/LINCS/LSM2Cid.txt', index_col='SM_LINCS_ID', sep='\\t',engine='python')\n",
    "    LSM2CID_df=LSM2CID_df[~LSM2CID_df['SM_PubChem_CID'].isna()]\n",
    "    LSM2CID_df['SM_PubChem_CID']=LSM2CID_df['SM_PubChem_CID'].astype(int)\n",
    "    LSM2CID_dic=LSM2CID_df['SM_PubChem_CID'].to_dict()\n",
    "    \n",
    "    BRD2CID_dic={}\n",
    "    for key,value in BRD2LSM_dic.items():\n",
    "        if value not in LSM2CID_dic.keys():\n",
    "            continue\n",
    "        BRD2CID_dic[key]=LSM2CID_dic[value]\n",
    "    \n",
    "    return BRD2CID_dic\n",
    "\n",
    "def add_ic50_and_col_norm(file_name, BRD2CID):\n",
    "    # fold change file (index: compound|dose)\n",
    "    FC_df=pd.read_table(file_name, sep='\\t',engine='python',index_col=0)\n",
    "    \n",
    "    # compound and dose info from index\n",
    "    comp_dose_ds=FC_df.index.map(lambda x: x.split('|'))\n",
    "    FC_df[['compound','dose']]=pd.DataFrame(comp_dose_ds.values.tolist(), index=FC_df.index)\n",
    "    FC_df=FC_df.astype({'dose':np.float})\n",
    "    FC_df.index=range(len(FC_df))\n",
    "    \n",
    "    # ic50s of the common compounds for a particular cell\n",
    "    cell = file_name.split('_')[-2]\n",
    "    ic50_df=pd.read_table('./result/GDSC_IC50s_for_common_drugs.txt', index_col=0, sep='\\t',engine='python')\n",
    "    ic50_ds=ic50_df[cell]\n",
    "    ic50_ds=ic50_ds[~ic50_ds.isna()]\n",
    "    ic50_dic=ic50_ds.to_dict()\n",
    "    \n",
    "    # replace compound to ic50 for a particular cell\n",
    "    FC_df['compound']=FC_df['compound'].map(BRD2CID).map(ic50_dic)\n",
    "    FC_df.rename(columns={'compound':'ic50'},inplace=True)    \n",
    "    FC_df=FC_df[~FC_df['ic50'].isna()]\n",
    "    \n",
    "    # get effect info from ic50 and the treated dose\n",
    "    diff_ds=FC_df['dose']-FC_df['ic50']\n",
    "    FC_df['effect']=np.where(diff_ds>=0, 1, 0)\n",
    "    FC_df.drop(['ic50','dose'],axis=1,inplace=True)\n",
    "   \n",
    "    # cell selection criteria 1 & 2\n",
    "    tot=len(FC_df['effect'])\n",
    "    eff=np.sum(FC_df['effect']==1)\n",
    "    if (tot>400) and ((eff/tot)>0.15):\n",
    "        out_file_name=file_name.replace(\"foldchange\", \"foldchange_with_effect\").replace(\"all\",'effect')\n",
    "        FC_df.to_csv(out_file_name,sep='\\t',index=False)\n",
    "    \n",
    "    print('{},{},{},{:.3f}'.format(cell, eff, tot, eff/tot))\n",
    "        \n",
    "BRD2CID=get_BRD2CID_dic()\n",
    "file_names=glob.glob('result/foldchange/*.txt')\n",
    "for file_name in file_names:\n",
    "    add_ic50_and_col_norm(file_name, BRD2CID)"
   ]
  },
  {
   "cell_type": "code",
   "execution_count": null,
   "metadata": {},
   "outputs": [],
   "source": []
  }
 ],
 "metadata": {
  "kernelspec": {
   "display_name": "Python 3",
   "language": "python",
   "name": "python3"
  },
  "language_info": {
   "codemirror_mode": {
    "name": "ipython",
    "version": 3
   },
   "file_extension": ".py",
   "mimetype": "text/x-python",
   "name": "python",
   "nbconvert_exporter": "python",
   "pygments_lexer": "ipython3",
   "version": "3.7.6"
  }
 },
 "nbformat": 4,
 "nbformat_minor": 2
}
