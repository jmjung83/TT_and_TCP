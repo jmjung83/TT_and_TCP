{
 "cells": [
  {
   "cell_type": "code",
   "execution_count": 1,
   "metadata": {},
   "outputs": [
    {
     "name": "stdout",
     "output_type": "stream",
     "text": [
      "Once deleted, variables cannot be recovered. Proceed (y/[n])? y\n"
     ]
    }
   ],
   "source": [
    "%reset\n",
    "from IPython.core.interactiveshell import InteractiveShell\n",
    "InteractiveShell.ast_node_interactivity = \"all\"\n",
    "\n",
    "import pandas as pd\n",
    "import numpy as np\n",
    "import matplotlib.pyplot as plt\n",
    "import scipy.stats as sci"
   ]
  },
  {
   "cell_type": "markdown",
   "metadata": {},
   "source": [
    "## hypergeomeric tests for the significant TTs with CRISPR, uniprot, TTD and TSgene"
   ]
  },
  {
   "cell_type": "markdown",
   "metadata": {},
   "source": [
    "### CRISPR"
   ]
  },
  {
   "cell_type": "code",
   "execution_count": 2,
   "metadata": {},
   "outputs": [],
   "source": [
    "def get_CRISPR(cell, fdr):\n",
    "    CRISPR=pd.read_table('data/CRISPR/GeckoV2_{}.txt'.format(cell), sep='\\t',index_col=0,engine='python')\n",
    "    CRISPR_all=set(CRISPR.index)\n",
    "    CRISPR=set(CRISPR.loc[CRISPR['FDR']<fdr].index)\n",
    "    \n",
    "    return CRISPR_all, CRISPR\n",
    "\n",
    "def hyperGeo_CRISPR(all_TF, sig_TT_dic, res_file):\n",
    "    sig_type='neg'\n",
    "    for cell in ['A375','HT29']:\n",
    "        sig_TT=sig_TT_dic[(cell,sig_type)]\n",
    "        for fdr in [0.1,0.2,0.3,0.4]:\n",
    "            CRISPR_all, CRISPR=get_CRISPR(cell, fdr)\n",
    "            all_TF_both=all_TF&CRISPR_all\n",
    "            \n",
    "            CRISPR=all_TF_both&CRISPR\n",
    "            sig_TT=all_TF_both&sig_TT\n",
    "\n",
    "            p_val = sci.hypergeom.sf(len(sig_TT&CRISPR), len(all_TF_both), len(CRISPR), len(sig_TT))\n",
    "            res_file.write('{}\\t{}\\t{}\\t{}\\t{}\\t{}\\t{}\\t{}\\t{}\\n'.format(cell, sig_type, 'CRISPR({})'.format(fdr), len(all_TF_both), len(CRISPR), len(sig_TT), len(sig_TT&CRISPR), p_val, sig_TT&CRISPR))"
   ]
  },
  {
   "cell_type": "markdown",
   "metadata": {},
   "source": [
    "### uniprot"
   ]
  },
  {
   "cell_type": "code",
   "execution_count": 3,
   "metadata": {},
   "outputs": [],
   "source": [
    "def get_uniprot(status):\n",
    "    if status=='OCG':\n",
    "        uniprot=pd.read_table('data/Uniprot/oncogene_uniprot.txt', sep='\\t',engine='python')\n",
    "    if status=='TSG':\n",
    "        uniprot=pd.read_table('data/Uniprot/tumor_suppressor_uniprot.txt', sep='\\t',engine='python')\n",
    "        \n",
    "    uniprot=uniprot.loc[uniprot['Gene names'].notnull()]\n",
    "    \n",
    "    uniprot_list=[]\n",
    "    for ind, row in uniprot.iterrows():\n",
    "        uniprot_list+=row['Gene names'].split(' ')\n",
    "\n",
    "    return set(uniprot_list)\n",
    "\n",
    "def hyperGeo_uniprot(all_TF, sig_TT_dic, status, res_file):\n",
    "    uniprot=get_uniprot(status)\n",
    "    uniprot=all_TF&uniprot\n",
    "    \n",
    "    if status=='OCG':\n",
    "        sig_type='neg'\n",
    "    if status=='TSG':\n",
    "        sig_type='pos'\n",
    "        \n",
    "    for cell in ['A375','HT29','both']:\n",
    "        sig_TT=sig_TT_dic[(cell,sig_type)]\n",
    "        \n",
    "        p_val = sci.hypergeom.sf(len(sig_TT&uniprot), len(all_TF), len(uniprot), len(sig_TT))\n",
    "        res_file.write('{}\\t{}\\t{}\\t{}\\t{}\\t{}\\t{}\\t{}\\t{}\\n'.format(cell, sig_type, 'uniprot({})'.format(status), len(all_TF), len(uniprot), len(sig_TT), len(sig_TT&uniprot), p_val, sig_TT&uniprot))"
   ]
  },
  {
   "cell_type": "markdown",
   "metadata": {},
   "source": [
    "### TTD"
   ]
  },
  {
   "cell_type": "code",
   "execution_count": 4,
   "metadata": {},
   "outputs": [],
   "source": [
    "def get_TTD():\n",
    "    def cancer_related_disease(x):\n",
    "        code_list=[]\n",
    "        for code in x.split(', '):\n",
    "            code_list+=code.split('-')\n",
    "\n",
    "        for code in code_list:\n",
    "            if code.startswith('C') or code.startswith('D') :\n",
    "                return True\n",
    "        return False\n",
    "\n",
    "    TTD_to_UPT=pd.read_table('data/TTD/P2-01-TTD_uniprot_all.txt', index_col=0, sep='\\t',engine='python')\n",
    "    TTD_to_UPT=TTD_to_UPT['Uniprot ID'].map(lambda x: x.split(' ')[0]).to_dict()\n",
    "    UPT_to_gene=pd.read_table('data/TTD/uniprot_to_gene.txt', index_col=0, sep='\\t',engine='python')\n",
    "    UPT_to_gene=UPT_to_gene['To'].to_dict()\n",
    "\n",
    "    TTD_TarDis=pd.read_table('data/TTD/P1-05-Target_disease.txt', sep='\\t',engine='python')\n",
    "    TTD_TarDis=TTD_TarDis.loc[TTD_TarDis['ICD10'].notnull()]\n",
    "    TTD_TarDis=TTD_TarDis.loc[TTD_TarDis['ICD10'].map(cancer_related_disease)]\n",
    "\n",
    "    TTD_available_UPT=set(TTD_TarDis['TTDTargetID'])&set(TTD_to_UPT.keys())\n",
    "\n",
    "    UPT_list=[]\n",
    "    for TTD in TTD_available_UPT:\n",
    "        UPT_list.append(TTD_to_UPT[TTD])\n",
    "\n",
    "    UPT_available_gene=set(UPT_list)&set(UPT_to_gene.keys())\n",
    "\n",
    "    gene_list=[]\n",
    "    for UPT in UPT_available_gene:\n",
    "        gene_list.append(UPT_to_gene[UPT])\n",
    "\n",
    "    return set(gene_list)\n",
    "\n",
    "    \n",
    "def hyperGeo_TTD(all_TF, sig_TT_dic, res_file):\n",
    "    TTD=get_TTD()\n",
    "    TTD=all_TF&TTD\n",
    "    \n",
    "    sig_type='neg'\n",
    "    for cell in ['A375','HT29','both']:\n",
    "        sig_TT=sig_TT_dic[(cell,sig_type)]\n",
    "        \n",
    "        p_val = sci.hypergeom.sf(len(sig_TT&TTD), len(all_TF), len(TTD), len(sig_TT))\n",
    "        res_file.write('{}\\t{}\\t{}\\t{}\\t{}\\t{}\\t{}\\t{}\\t{}\\n'.format(cell, sig_type, 'TTD', len(all_TF), len(TTD), len(sig_TT), len(sig_TT&TTD), p_val, sig_TT&TTD))"
   ]
  },
  {
   "cell_type": "markdown",
   "metadata": {},
   "source": [
    "### TSgene"
   ]
  },
  {
   "cell_type": "code",
   "execution_count": 5,
   "metadata": {},
   "outputs": [],
   "source": [
    "def hyperGeo_TSgene(all_TF, sig_TT_dic, res_file):\n",
    "    TSgene=pd.read_table('data/TSgene2.0/Human_TSGs.txt', sep='\\t',index_col=0,engine='python')\n",
    "    TSgene=set(TSgene['GeneSymbol'])\n",
    "    TSgene=all_TF&TSgene\n",
    "    \n",
    "    sig_type='pos'\n",
    "    for cell in ['A375','HT29','both']:\n",
    "        sig_TT=sig_TT_dic[(cell,sig_type)]\n",
    "        \n",
    "        p_val = sci.hypergeom.sf(len(sig_TT&TSgene), len(all_TF), len(TSgene), len(sig_TT))\n",
    "        res_file.write('{}\\t{}\\t{}\\t{}\\t{}\\t{}\\t{}\\t{}\\t{}\\n'.format(cell, sig_type, 'TSgene', len(all_TF), len(TSgene), len(sig_TT), len(sig_TT&TSgene), p_val, sig_TT&TSgene))"
   ]
  },
  {
   "cell_type": "markdown",
   "metadata": {},
   "source": [
    "### main"
   ]
  },
  {
   "cell_type": "code",
   "execution_count": 6,
   "metadata": {},
   "outputs": [],
   "source": [
    "def get_sig_TT(cell, tp):\n",
    "    sig_TT=pd.read_table('result/TT_score_viper/sig_TT.txt', sep='\\t',index_col=0,header=None, engine='python')\n",
    "    sig_TT=sig_TT.loc['{}({})'.format(cell,tp)].iloc[1].split(',')\n",
    "    return set(sig_TT)\n",
    "\n",
    "def get_all_considered_TF():\n",
    "    all_TF=pd.read_table('result/TT_score_viper/TTS_A375.txt', sep='\\t',index_col=0,engine='python')\n",
    "    all_TF=set(all_TF.index)   \n",
    "    return all_TF\n",
    "\n",
    "all_TF=get_all_considered_TF()\n",
    "sig_TT_dic={}\n",
    "\n",
    "for cell in ['A375','HT29','both']:\n",
    "    for tp in ['pos','neg']:\n",
    "        sig_TT_dic[(cell,tp)]=get_sig_TT(cell,tp)\n",
    "\n",
    "res_file=open('result/TT_score_viper/hyperGeo_result.txt','w+')\n",
    "_=res_file.write('{}\\t{}\\t{}\\t{}\\t{}\\t{}\\t{}\\t{}\\t{}\\n'.format('cell','sig_TT_type','database','all_TF','GS','sig_TT','hit','p-value','hit_TF_list'))\n",
    "        \n",
    "hyperGeo_TTD(all_TF, sig_TT_dic,res_file)\n",
    "hyperGeo_TSgene(all_TF, sig_TT_dic,res_file)\n",
    "hyperGeo_uniprot(all_TF, sig_TT_dic, 'OCG',res_file)\n",
    "hyperGeo_uniprot(all_TF, sig_TT_dic, 'TSG',res_file)\n",
    "hyperGeo_CRISPR(all_TF, sig_TT_dic, res_file)\n",
    "res_file.close()"
   ]
  },
  {
   "cell_type": "code",
   "execution_count": null,
   "metadata": {},
   "outputs": [],
   "source": []
  }
 ],
 "metadata": {
  "kernelspec": {
   "display_name": "Python 3",
   "language": "python",
   "name": "python3"
  },
  "language_info": {
   "codemirror_mode": {
    "name": "ipython",
    "version": 3
   },
   "file_extension": ".py",
   "mimetype": "text/x-python",
   "name": "python",
   "nbconvert_exporter": "python",
   "pygments_lexer": "ipython3",
   "version": "3.7.6"
  }
 },
 "nbformat": 4,
 "nbformat_minor": 2
}
