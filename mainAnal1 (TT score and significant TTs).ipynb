{
 "cells": [
  {
   "cell_type": "code",
   "execution_count": 4,
   "metadata": {},
   "outputs": [
    {
     "name": "stdout",
     "output_type": "stream",
     "text": [
      "Once deleted, variables cannot be recovered. Proceed (y/[n])? y\n"
     ]
    }
   ],
   "source": [
    "%reset\n",
    "from IPython.core.interactiveshell import InteractiveShell\n",
    "InteractiveShell.ast_node_interactivity = \"all\"\n",
    "\n",
    "import pandas as pd\n",
    "import numpy as np\n",
    "import glob\n",
    "import scipy.stats\n",
    "import statsmodels.stats.multitest as multest\n",
    "import statsmodels.sandbox.stats.multicomp as mulcomp"
   ]
  },
  {
   "cell_type": "markdown",
   "metadata": {},
   "source": [
    "### compute TT (Therapeutic TF) scores by applying t-test to TF activities in effective and ineffective groups"
   ]
  },
  {
   "cell_type": "code",
   "execution_count": 5,
   "metadata": {
    "scrolled": false
   },
   "outputs": [
    {
     "name": "stdout",
     "output_type": "stream",
     "text": [
      "## viper\n",
      "####  A375\n",
      "####  HT29\n"
     ]
    }
   ],
   "source": [
    "def perform_ttest(file_name):\n",
    "    cell=file_name.split('_')[-2]\n",
    "    print('#### ', cell)\n",
    "    \n",
    "    anal_data=pd.read_table(file_name, sep='\\t',engine='python')\n",
    "    TT_score={}\n",
    "    for col in anal_data.columns:\n",
    "        if col=='effect':\n",
    "            continue\n",
    "\n",
    "        pos_set=anal_data.loc[anal_data['effect']==1,col]\n",
    "        neg_set=anal_data.loc[anal_data['effect']==0,col]\n",
    "\n",
    "        TTS, p_val=scipy.stats.ttest_ind(pos_set, neg_set, equal_var=False)\n",
    "\n",
    "        TT_score[col]= [pos_set.mean(), neg_set.mean(), TTS, p_val]\n",
    "\n",
    "    TT_score=pd.DataFrame(TT_score)\n",
    "    TT_score=TT_score.T\n",
    "    TT_score.columns=['TFAs Ave.(E)','TFAs Ave.(IE)', 'TTS','p_val']\n",
    "    TT_score=TT_score.sort_values(by='TTS', ascending=False)\n",
    "    TT_score['FDR'] = mulcomp.multipletests(TT_score['p_val'], method='bonferroni')[1]\n",
    "    TT_score['negLog10_FDR'] = TT_score['FDR'].map(lambda x: -np.log10(x))\n",
    "    \n",
    "    return TT_score, cell\n",
    "    \n",
    "    \n",
    "print('## viper')  \n",
    "file_names=glob.glob('result/TF_activity_viper/*v.txt')\n",
    "\n",
    "TT_score_merged = pd.DataFrame() ## for merging the results of two cells (only for viper)\n",
    "\n",
    "for file_name in file_names:\n",
    "    TT_score, cell=perform_ttest(file_name)\n",
    "    TT_score.index.name='TF'\n",
    "    TT_score.to_csv('result/TT_score_viper/TTS_{}.txt'.format(cell),sep='\\t')\n",
    "    \n",
    "    ## represent data with short format\n",
    "    for col in ['TFAs Ave.(E)','TFAs Ave.(IE)','TTS','negLog10_FDR']:\n",
    "        TT_score[col] = TT_score[col].map(lambda x: '{:.3f}'.format(x))\n",
    "\n",
    "    for col in ['p_val','FDR']:\n",
    "        TT_score[col] = TT_score[col].map(lambda x: '{:.3e}'.format(x))\n",
    "    \n",
    "    ## change columns with cell name\n",
    "    TT_score.columns=TT_score.columns+'_'+cell\n",
    "    TT_score_merged=pd.concat([TT_score_merged, TT_score], axis=1, sort=True)\n",
    "    \n",
    "## calculate the sum of the both FDR and sort by the FDR sum\n",
    "TT_score_merged.index.name='TF'\n",
    "TT_score_merged['TTS_SUM']=TT_score_merged['TTS_A375'].astype(float)+TT_score_merged['TTS_HT29'].astype(float)\n",
    "TT_score_merged.sort_values(by=['TTS_SUM'], ascending=False, inplace=True)\n",
    "TT_score_merged['TTS_SUM']=TT_score_merged['TTS_SUM'].map(lambda x: '{:.3f}'.format(x))\n",
    "\n",
    "## save the results\n",
    "TT_score_merged.to_csv('result/TT_score_viper/TTS_merged.txt',sep='\\t')"
   ]
  },
  {
   "cell_type": "markdown",
   "metadata": {},
   "source": [
    "### characterize significant TTs with a certain FDR"
   ]
  },
  {
   "cell_type": "code",
   "execution_count": 6,
   "metadata": {},
   "outputs": [],
   "source": [
    "TTS_FDR=1.0e-05\n",
    "\n",
    "TT_result=open('result/TT_score_viper/sig_TT.txt','w+')\n",
    "pos_TT_both=[]\n",
    "neg_TT_both=[]\n",
    "for cell in ['A375','HT29']:\n",
    "    TTS=pd.read_table('result/TT_score_viper/TTS_{}.txt'.format(cell), sep='\\t',index_col=0,engine='python')\n",
    "    \n",
    "    pos_TT=list(set(TTS.loc[(TTS['FDR']<TTS_FDR)&(TTS['TTS']>0)].index))\n",
    "    neg_TT=list(set(TTS.loc[(TTS['FDR']<TTS_FDR)&(TTS['TTS']<0)].index))\n",
    "    \n",
    "    _=TT_result.write('{}(pos)\\t{}\\t{}\\n'.format(cell, len(pos_TT), ','.join(pos_TT)))\n",
    "    _=TT_result.write('{}(neg)\\t{}\\t{}\\n'.format(cell, len(neg_TT), ','.join(neg_TT)))\n",
    "    \n",
    "    pos_TT_both+=pos_TT\n",
    "    neg_TT_both+=neg_TT\n",
    "\n",
    "pos_TT_both=[TT for TT in set(pos_TT_both) if pos_TT_both.count(TT)==2]\n",
    "neg_TT_both=[TT for TT in set(neg_TT_both) if neg_TT_both.count(TT)==2]\n",
    "\n",
    "_=TT_result.write('both(pos)\\t{}\\t{}\\n'.format(len(pos_TT_both), ','.join(pos_TT_both)))\n",
    "_=TT_result.write('both(neg)\\t{}\\t{}\\n'.format(len(neg_TT_both), ','.join(neg_TT_both)))\n",
    "\n",
    "TT_result.close()"
   ]
  }
 ],
 "metadata": {
  "kernelspec": {
   "display_name": "Python 3",
   "language": "python",
   "name": "python3"
  },
  "language_info": {
   "codemirror_mode": {
    "name": "ipython",
    "version": 3
   },
   "file_extension": ".py",
   "mimetype": "text/x-python",
   "name": "python",
   "nbconvert_exporter": "python",
   "pygments_lexer": "ipython3",
   "version": "3.7.6"
  }
 },
 "nbformat": 4,
 "nbformat_minor": 2
}
